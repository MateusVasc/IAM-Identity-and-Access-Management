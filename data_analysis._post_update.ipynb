{
 "cells": [
  {
   "cell_type": "code",
   "execution_count": null,
   "id": "4a09c4e9",
   "metadata": {
    "vscode": {
     "languageId": "plaintext"
    }
   },
   "outputs": [],
   "source": [
    "import pandas as pd\n",
    "import matplotlib.pyplot as plt\n",
    "import seaborn as sns"
   ]
  },
  {
   "cell_type": "code",
   "execution_count": null,
   "id": "501432f3",
   "metadata": {
    "vscode": {
     "languageId": "plaintext"
    }
   },
   "outputs": [],
   "source": [
    "df = pd.read_csv('response_times.csv')\n",
    "df.head()"
   ]
  },
  {
   "cell_type": "code",
   "execution_count": null,
   "id": "c9c23c04",
   "metadata": {
    "vscode": {
     "languageId": "plaintext"
    }
   },
   "outputs": [],
   "source": [
    "stats = df.groupby('endpoint')['tempo_resposta'].describe()\n",
    "\n",
    "print(\"Estatísticas descritivas por endpoint:\")\n",
    "print(stats)"
   ]
  },
  {
   "cell_type": "code",
   "execution_count": null,
   "id": "9468e5d6",
   "metadata": {
    "vscode": {
     "languageId": "plaintext"
    }
   },
   "outputs": [],
   "source": [
    "import seaborn as sns\n",
    "\n",
    "plt.figure(figsize=(12, 10))\n",
    "endpoints = df['endpoint'].unique()\n",
    "\n",
    "for i, endpoint in enumerate(endpoints, 1):\n",
    "    plt.subplot(2, 2, i)\n",
    "    subset = df[df['endpoint'] == endpoint]\n",
    "    sns.histplot(subset['tempo_resposta'], bins=30, kde=True, color='skyblue')\n",
    "    plt.title(f'Distribuição - {endpoint}')\n",
    "    plt.xlabel('Tempo de Resposta (s)')\n",
    "    plt.ylabel('Frequência')\n",
    "\n",
    "plt.tight_layout()\n",
    "plt.show()\n"
   ]
  },
  {
   "cell_type": "code",
   "execution_count": null,
   "id": "ae7dc16c",
   "metadata": {
    "vscode": {
     "languageId": "plaintext"
    }
   },
   "outputs": [],
   "source": [
    "import matplotlib.pyplot as plt\n",
    "\n",
    "plt.figure(figsize=(12, 6))\n",
    "\n",
    "for endpoint in df['endpoint'].unique():\n",
    "    subset = df[df['endpoint'] == endpoint]\n",
    "    # Suaviza com média móvel (rolling)\n",
    "    avg_per_iteration = subset.groupby('iteracao')['tempo_resposta'].mean().rolling(window=20).mean()\n",
    "    plt.plot(avg_per_iteration, label=endpoint)\n",
    "\n",
    "plt.title('Evolução dos Tempos de Resposta ao Longo das Iterações (Suavizado)')\n",
    "plt.xlabel('Iteração')\n",
    "plt.ylabel('Tempo Médio de Resposta (s)')\n",
    "plt.legend()\n",
    "plt.grid(True)\n",
    "plt.tight_layout()\n",
    "plt.show()\n"
   ]
  },
  {
   "cell_type": "code",
   "execution_count": null,
   "id": "0d8458a6",
   "metadata": {
    "vscode": {
     "languageId": "plaintext"
    }
   },
   "outputs": [],
   "source": [
    "mean_times.plot(kind='bar', figsize=(10, 6), color='skyblue')\n",
    "plt.title('Média dos Tempos de Resposta por Endpoint')\n",
    "plt.xlabel('Endpoint')\n",
    "plt.ylabel('Tempo Médio de Resposta (segundos)')\n",
    "plt.xticks(rotation=45)\n",
    "plt.show()"
   ]
  },
  {
   "cell_type": "code",
   "execution_count": null,
   "id": "24efccb1",
   "metadata": {
    "vscode": {
     "languageId": "plaintext"
    }
   },
   "outputs": [],
   "source": []
  },
  {
   "cell_type": "code",
   "execution_count": null,
   "id": "86e97767",
   "metadata": {
    "vscode": {
     "languageId": "plaintext"
    }
   },
   "outputs": [],
   "source": []
  }
 ],
 "metadata": {
  "language_info": {
   "name": "python"
  }
 },
 "nbformat": 4,
 "nbformat_minor": 5
}
